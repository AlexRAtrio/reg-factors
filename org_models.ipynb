{
 "cells": [
  {
   "cell_type": "markdown",
   "id": "prescription-tourist",
   "metadata": {},
   "source": [
    "- All models trained in the paper are in configs, in their respective folders depending on the sections of the paper in which they appear.\n",
    "- In this notebook are all the names of the models to reproduce the Tables as indicated, with their names in order, with an empty line denoting rows for each table."
   ]
  },
  {
   "cell_type": "markdown",
   "id": "false-force",
   "metadata": {},
   "source": [
    "# 4. Batch size"
   ]
  },
  {
   "cell_type": "code",
   "execution_count": 3,
   "id": "armed-grammar",
   "metadata": {},
   "outputs": [
    {
     "data": {
      "text/plain": [
       "6"
      ]
     },
     "execution_count": 3,
     "metadata": {},
     "output_type": "execute_result"
    }
   ],
   "source": [
    "# Table 2\n",
    "batch_size = [\n",
    "\"bl_0.5k_spm10k\",\n",
    "\"bl_1k_spm10k\",\n",
    "\"bl_3k_spm10k\",\n",
    "\"bl_6k_spm10k\",\n",
    "\"bl_9k_spm10k\",\n",
    "\"bl_10k_spm10k_2\",\n",
    "]\n",
    "\n",
    "len(batch_size)"
   ]
  },
  {
   "cell_type": "markdown",
   "id": "concrete-maldives",
   "metadata": {},
   "source": [
    "# 5. LR"
   ]
  },
  {
   "cell_type": "code",
   "execution_count": 5,
   "id": "current-associate",
   "metadata": {},
   "outputs": [
    {
     "data": {
      "text/plain": [
       "(28, 4)"
      ]
     },
     "execution_count": 5,
     "metadata": {},
     "output_type": "execute_result"
    }
   ],
   "source": [
    "# Table 3\n",
    "lr = [\n",
    "\"bl_1k_spm10k\",    \n",
    "\"bl_1k_spm10k_sf4_w8000\",\n",
    "\"bl_1k_spm10k_sf6_w8000\",\n",
    "\"bl_1k_spm10k_sf8_w8000\",\n",
    "\"bl_1k_spm10k_sf10_w8000\",\n",
    "\"bl_1k_spm10k_sf12_w8000\",\n",
    "\"bl_1k_spm10k_sf14_w8000\",\n",
    "\n",
    "\"bl_1k_spm10k_sf2_w16000\",\n",
    "\"bl_1k_spm10k_sf4_w16000\",\n",
    "\"bl_1k_spm10k_sf6_w16000\",\n",
    "\"bl_1k_spm10k_sf8_w16000\",\n",
    "\"bl_1k_spm10k_sf10_w16000\",\n",
    "\"bl_1k_spm10k_sf12_w16000\",\n",
    "\"bl_1k_spm10k_sf14_w16000\",\n",
    "\n",
    "\"bl_10k_spm10k_2\",\n",
    "\"bl_10k_spm10k_sf4_w8000\",\n",
    "\"bl_10k_spm10k_sf6_w8000\",\n",
    "\"bl_10k_spm10k_sf8_w8000\",\n",
    "\"bl_10k_spm10k_sf10_w8000\",\n",
    "\"bl_10k_spm10k_sf12_w8000\",\n",
    "\"bl_10k_spm10k_sf14_w8000\",\n",
    "\n",
    "\"bl_10k_spm10k_sf2_w16000\",\n",
    "\"bl_10k_spm10k_sf4_w16000\",\n",
    "\"bl_10k_spm10k_sf6_w16000\",\n",
    "\"bl_10k_spm10k_sf8_w16000\",\n",
    "\"bl_10k_spm10k_sf10_w16000\",\n",
    "\"bl_10k_spm10k_sf12_w16000\",\n",
    "\"bl_10k_spm10k_sf14_w16000\",\n",
    "]\n",
    "\n",
    "# Table 4\n",
    "lr_reset = [\n",
    "\"bl_1k_spm10k\",\n",
    "\"bl_1k_spm10k_resetlr\",\n",
    "\n",
    "\"bl_10k_spm10k_2\",\n",
    "\"bl_10k_spm10k_resetlr\",\n",
    "]\n",
    "\n",
    "len(lr), len(lr_reset)"
   ]
  },
  {
   "cell_type": "markdown",
   "id": "banner-commissioner",
   "metadata": {},
   "source": [
    "# 6. Dropout"
   ]
  },
  {
   "cell_type": "code",
   "execution_count": 6,
   "id": "fundamental-platform",
   "metadata": {},
   "outputs": [
    {
     "data": {
      "text/plain": [
       "18"
      ]
     },
     "execution_count": 6,
     "metadata": {},
     "output_type": "execute_result"
    }
   ],
   "source": [
    "# Table 5\n",
    "dropout = [\n",
    "\"bl_1k_spm10k\",\n",
    "\"bl_1k_spm10k_dr2\",\n",
    "\"bl_1k_spm10k_dr3\",\n",
    "\"bl_1k_spm10k_dr4\",\n",
    "\"bl_1k_spm10k_dr5\",\n",
    "\"bl_1k_spm10k_dr6\",\n",
    "\"bl_1k_spm10k_dr7\",\n",
    "\"bl_1k_spm10k_dr8\",\n",
    "\"bl_1k_spm10k_dr9\",\n",
    "    \n",
    "\"bl_10k_spm10k_2\",\n",
    "\"bl_10k_spm10k_dr2\",\n",
    "\"bl_10k_spm10k_dr3\",\n",
    "\"bl_10k_spm10k_dr4\",\n",
    "\"bl_10k_spm10k_dr5\",\n",
    "\"bl_10k_spm10k_dr6\",\n",
    "\"bl_10k_spm10k_dr7\",\n",
    "\"bl_10k_spm10k_dr8\",\n",
    "\"bl_10k_spm10k_dr9\",\n",
    "]\n",
    "\n",
    "len(dropout)"
   ]
  },
  {
   "cell_type": "markdown",
   "id": "rental-farmer",
   "metadata": {},
   "source": [
    "# 7. Clipping"
   ]
  },
  {
   "cell_type": "code",
   "execution_count": 7,
   "id": "timely-softball",
   "metadata": {},
   "outputs": [
    {
     "data": {
      "text/plain": [
       "35"
      ]
     },
     "execution_count": 7,
     "metadata": {},
     "output_type": "execute_result"
    }
   ],
   "source": [
    "# Table 6\n",
    "clipping = [\n",
    "\"bl_1k_spm10k_norm2.5\",\n",
    "\"bl_1k_spm10k_norm5\",\n",
    "\"bl_1k_spm10k_norm10\",\n",
    "\"bl_1k_spm10k_norm20\",\n",
    "\"bl_1k_spm10k\",\n",
    "\n",
    "\"bl_10k_spm10k_norm2.5\",\n",
    "\"bl_10k_spm10k_norm5\",\n",
    "\"bl_10k_spm10k_norm10\",\n",
    "\"bl_10k_spm10k_norm20\",\n",
    "\"bl_10k_spm10k_2\",\n",
    "\n",
    "\"bl_10k_spm10k_dr2_norm2.5\",\n",
    "\"bl_10k_spm10k_dr2_norm5\",\n",
    "\"bl_10k_spm10k_dr2_norm10\",\n",
    "\"bl_10k_spm10k_dr2_norm20\",\n",
    "\"bl_10k_spm10k_dr2\",\n",
    "\n",
    "\"bl_10k_spm10k_dropout3_norm2.5\",\n",
    "\"bl_10k_spm10k_dropout_norm\", \n",
    "\"bl_10k_spm10k_dropout3_norm10\",\n",
    "\"bl_10k_spm10k_dr3_norm20\",\n",
    "\"bl_10k_spm10k_dr3\",\n",
    "    \n",
    "\"bl_10k_spm10k_dr4_norm2.5\",\n",
    "\"bl_10k_spm10k_dr4_norm5\",\n",
    "\"bl_10k_spm10k_dropout4_norm10\",\n",
    "\"bl_10k_spm10k_dr4_norm20\",\n",
    "\"bl_10k_spm10k_dr4\",\n",
    "\n",
    "\"bl_10k_spm10k_sf6_w8000_norm2.5\",\n",
    "\"bl_10k_spm10k_sf6_w8000_norm5\",\n",
    "\"bl_10k_spm10k_sf6_w8000_norm10\",\n",
    "\"bl_10k_spm10k_sf6_w8000_norm20\",\n",
    "\"bl_10k_spm10k_sf6_w8000\",\n",
    "\n",
    "\"bl_10k_spm10k_sf10_w8000_norm2.5\",\n",
    "\"bl_10k_spm10k_sf10_w8000_norm5\",\n",
    "\"bl_10k_spm10k_sf10_w8000_norm10\",\n",
    "\"bl_10k_spm10k_sf10_w8000_norm20\",\n",
    "\"bl_10k_spm10k_sf10_w8000\",\n",
    "]\n",
    "\n",
    "len(clipping)"
   ]
  },
  {
   "cell_type": "markdown",
   "id": "photographic-joyce",
   "metadata": {},
   "source": [
    "# 8. Combination"
   ]
  },
  {
   "cell_type": "code",
   "execution_count": 8,
   "id": "subject-freight",
   "metadata": {},
   "outputs": [
    {
     "data": {
      "text/plain": [
       "40"
      ]
     },
     "execution_count": 8,
     "metadata": {},
     "output_type": "execute_result"
    }
   ],
   "source": [
    "# Table 8\n",
    "combination = [\n",
    "\"bl_10k_spm10k_2\",\n",
    "\"bl_10k_spm10k_dr3\",\n",
    "\"bl_10k_spm10k_dr5\",\n",
    "\"bl_10k_spm10k_dr7\",\n",
    "\n",
    "\"bl_10k_spm10k_sf6_w16000\",\n",
    "\"bl_10k_spm10k_dropout3_norm0_sf6_w16000\",\n",
    "\"bl_10k_spm10k_dropout5_norm0_sf6_w16000\", \n",
    "\"bl_10k_spm10k_dropout7_norm0_sf6_w16000\",\n",
    "\n",
    "\"bl_10k_spm10k_sf10_w16000\",\n",
    "\"bl_10k_spm10k_dropout3_norm0_sf10_w16000\", \n",
    "\"bl_10k_spm10k_dropout5_norm0_sf10_w16000\", \n",
    "\"bl_10k_spm10k_dropout7_norm0_sf10_w16000\",\n",
    "\n",
    "\"bl_10k_spm10k_sf14_w16000\",\n",
    "\"bl_10k_spm10k_dropout3_norm0_sf14_w16000\", \n",
    "\"bl_10k_spm10k_dropout5_norm0_sf14_w16000\",\n",
    "\"bl_10k_spm10k_dropout7_norm0_sf14_w16000\",\n",
    "\n",
    "\"bl_10k_spm10k_sf18_w16000\",\n",
    "\"bl_10k_spm10k_dropout3_norm0_sf18_w16000\",\n",
    "\"bl_10k_spm10k_dropout5_norm0_sf18_w16000\",\n",
    "\"bl_10k_spm10k_dropout7_norm0_sf18_w16000\",\n",
    "\n",
    "\n",
    "\n",
    "\"bl_10k_spm10k_sf2_w16000_norm5\",\n",
    "\"bl_10k_spm10k_sf2_w16000_dr3_norm5\",\n",
    "\"bl_10k_spm10k_sf2_w16000_dr5_norm5\",\n",
    "\"bl_10k_spm10k_sf2_w16000_dr7_norm5\",\n",
    "\n",
    "\"bl_10k_spm10k_sf6_w16000_norm5\",\n",
    "\"bl_10k_spm10k_dropout3_norm5_sf6_w16000\",\n",
    "\"bl_10k_spm10k_dropout5_norm5_sf6_w16000\",\n",
    "\"bl_10k_spm10k_dropout7_norm5_sf6_w16000\",\n",
    "\n",
    "\"bl_10k_spm10k_sf10_w16000_norm5\",\n",
    "\"bl_10k_spm10k_dropout3_norm5_sf10_w16000\",\n",
    "\"bl_10k_spm10k_dropout5_norm5_sf10_w16000\",\n",
    "\"bl_10k_spm10k_dropout7_norm5_sf10_w16000\", \n",
    "\n",
    "\"bl_10k_spm10k_sf14_w16000_norm5\",\n",
    "\"bl_10k_spm10k_dropout3_norm5_sf14_w16000\",\n",
    "\"bl_10k_spm10k_dropout5_norm5_sf14_w16000\",\n",
    "\"bl_10k_spm10k_dropout7_norm5_sf14_w16000\",\n",
    "\n",
    "\n",
    "\"bl_10k_spm10k_sf18_w16000_norm5\",\n",
    "\"bl_10k_spm10k_dropout3_norm5_sf18_w16000\",\n",
    "\"bl_10k_spm10k_dropout5_norm5_sf18_w16000\",\n",
    "\"bl_10k_spm10k_dropout7_norm5_sf18_w16000\",\n",
    "]\n",
    "\n",
    "len(combination)"
   ]
  },
  {
   "cell_type": "markdown",
   "id": "figured-terminal",
   "metadata": {},
   "source": [
    "# 9. Additional Corpora"
   ]
  },
  {
   "cell_type": "code",
   "execution_count": 9,
   "id": "unsigned-shopper",
   "metadata": {},
   "outputs": [
    {
     "data": {
      "text/plain": [
       "14"
      ]
     },
     "execution_count": 9,
     "metadata": {},
     "output_type": "execute_result"
    }
   ],
   "source": [
    "# Table 9\n",
    "additional_corpora = [\n",
    "\"bl_10k_spm10k_2\",\n",
    "\"bl_10k_spm10k_dropout3_norm5_sf10_w16000_resetlr\",\n",
    "\n",
    "\"bl_10k_spm10k_hsbde_40k\",\n",
    "\"bl_10k_spm10k_optim_hsbde_40k\",\n",
    "\n",
    "\"bl_10k_spm10k_hsbde_20k\",\n",
    "\"bl_10k_spm10k_optim_hsbde_20k\",\n",
    "\n",
    "\"bl_10k_spm10k_deen_120k\",\n",
    "\"bl_10k_spm10k_optim_deen_120k\",\n",
    "\"bl_10k_spm10k_sken\",\n",
    "\"bl_10k_spm10k_optim_sken\",\n",
    "\"bl_10k_spm10k_slen\",\n",
    "\"bl_10k_spm10k_optim_slen\",\n",
    "\"bl_10k_spm10k_glen\",\n",
    "\"bl_10k_spm10k_optim_glen\",\n",
    "]\n",
    "\n",
    "len(additional_corpora)"
   ]
  }
 ],
 "metadata": {
  "kernelspec": {
   "display_name": "Python 3",
   "language": "python",
   "name": "python3"
  },
  "language_info": {
   "codemirror_mode": {
    "name": "ipython",
    "version": 3
   },
   "file_extension": ".py",
   "mimetype": "text/x-python",
   "name": "python",
   "nbconvert_exporter": "python",
   "pygments_lexer": "ipython3",
   "version": "3.9.1"
  }
 },
 "nbformat": 4,
 "nbformat_minor": 5
}
